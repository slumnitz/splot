{
 "cells": [
  {
   "cell_type": "markdown",
   "metadata": {},
   "source": [
    "# from GSoC import splot"
   ]
  },
  {
   "cell_type": "markdown",
   "metadata": {},
   "source": [
    "**A package providing lightweight plotting and mapping to facilitate spatial analysis with PySAL.** \n",
    "\n",
    "By [Stefanie Lumnitz](https://github.com/slumnitz), [Levi John Wolf](https://github.com/ljwolf), [Dani Arribal-Bel](https://github.com/darribas), [Sergio Rey](https://github.com/sjsrey), [Taylor Oshan](https://github.com/TaylorOshan) and [Joris Van den Bossche](https://github.com/jorisvandenbossche).\n",
    "\n",
    "The primary goal of this ['Google Summer of Code 2018' project](https://github.com/pysal/pysal/wiki/GSoC-2018---Geovisualization-Module-by-Stefanie-Lumnitz) was to design and implement the visualisation package `splot`. [`splot`](https://github.com/pysal/splot) connects spatial analysis done in the [Python Spatial Analysis Library](https://github.com/pysal), `PySAL`, to visualisation toolkits like [`matplotlib`](https://matplotlib.org). It provides users quick access to visualise popular PySAL objects, offering different views on spatial analysis workflows. The `splot` package facilitates the creation of both static plots ready for publication and interactive visualisations for quick iteration and spatial data exploration. The project has successfully achieved its primary goal and `splot` was first released in the [PySAL 2.0 2rc](https://github.com/pysal/pysal/releases) on [July 19 2018](https://pypi.org/project/PySAL/2.0rc2/#files)."
   ]
  },
  {
   "cell_type": "markdown",
   "metadata": {},
   "source": [
    "While developing `splot`, the potential integration of different popular visualisation packages like [`bokeh`](https://bokeh.pydata.org/en/latest/) was explored. Based on the results API decisions were made, a cooperation with [`geopandas`](http://geopandas.org) was leveraged and the outline of the project changed slightly. The project now allows `splot` to potentially grow with interactive toolkits like `bokeh` in future, but focuses the current workflow on the creation of views with a `matplotlib` and `geopandas` backend. Additionally, developing new tools helped to assess PySAL's current code base and provided the opportunity to add or tweak functionality alongside `splot`'s visualizations to create an even more user-friendly library.\n",
    "\n",
    "This notebook provides a summary of API decisions made, functionality developed and next steps planned towards a thriving `PySAL` and `splot` community in the context of the GSoC project."
   ]
  },
  {
   "cell_type": "markdown",
   "metadata": {},
   "source": [
    "## Contents"
   ]
  },
  {
   "cell_type": "markdown",
   "metadata": {},
   "source": [
    "1. API Decisions\n",
    "2. New `splot` functionality for:\n",
    "    * esda\n",
    "    * giddy\n",
    "    * libpysal\n",
    "    * mapping\n",
    "3. Code beyoned splot\n",
    "4. Remaining Work & Next Steps\n",
    "5. Community Outreach"
   ]
  },
  {
   "cell_type": "markdown",
   "metadata": {},
   "source": [
    "### GitHub and project links"
   ]
  },
  {
   "cell_type": "markdown",
   "metadata": {},
   "source": [
    "* [GSoC GitHub project](https://github.com/pysal/splot/projects/1)\n",
    "* [merged pull requests](https://github.com/pysal/splot/pulls?q=is%3Apr+author%3Aslumnitz+is%3Aclosed)\n",
    "* [unmerged pull requests](https://github.com/pysal/splot/pulls/slumnitz)\n",
    "* [Gitter channel](https://gitter.im/pysal-gsoc18/Lobby)\n",
    "* [Project Blog](https://blogs.python-gsoc.org/stefanie-lumnitz/author/stefanie-lumnitz/)"
   ]
  },
  {
   "cell_type": "markdown",
   "metadata": {},
   "source": [
    "## API Decisions"
   ]
  },
  {
   "cell_type": "markdown",
   "metadata": {},
   "source": [
    "**Challanges and Project Plan Changes**\n",
    "\n",
    "During the first Phase of GSoC we create different visualisations in both a static version using `matplotlib` and an interactive version based on `bokeh`, using `esda.moran` objects as our first example. The original GSoC project plan proposed to design a common API for easy access to both versions, ensuring that users would be able to switch between `bokeh` and `matplotlib` backends without the need to change their code. However, after creating the `splot.esda.plot_moran` composite view, it was clear that we would have to cut back on the advantages each backend offers in order to provide a function signature beeing identical for both versions. A common API, would for example restrict full figure design accessibility for views in `matplotlib` on one hand, and limit interactive tools, like the `hover` tool, including the information displayed during the interactivity in the `bokeh` backend. Hence, we decided early on in GSoC to focus on `matplotlib` as the main backend.\n",
    "\n",
    "Since the existing user base of `PySAL` consists of a large proportion of scientific researchers, it was important to us to offer a maximum of control over the design of all visualisations. Customization is important in creating visualisations that could also be used in scientific publications. Other reasons why we chose `matplotlib` over a `bokeh` backend include:\n",
    "* `matplotlib` is already based on a much larger user and developer community. More example visualisations and good documentation already exist on diverse platforms. Furthermore, the majority of the `PySAl` userbase is more familiar `matplotlib` due to its popularity.\n",
    "* Novel extensions like `IPyWidgets` or `matploltib`'s `notebook magic` already allow a certain degree of interactivity. Additionally, quick iteration over different or slightly changed views offers another way of interactively exploring data. \n",
    "* Lastly, because of `matplotlib`'s maturity it is easier and quicker to develop new views and build on top of other packages leveraging `mapltotlib` including `geopandas` or `seaborn`.\n",
    "\n",
    "The decision to focus on a backend using `matplotlib` and `geopandas` provided the advantage to build a user-friendly, flexible API and package structure."
   ]
  },
  {
   "cell_type": "markdown",
   "metadata": {},
   "source": [
    "**splot's structure and API**\n",
    "\n",
    "Building on top of our experiences, `splot`'s functionality can now be accessed in two main ways: Basic `splot` visualisations are exposed as `.plot` methods on PySAL objects. All visualisations can be found and called using a `splot.'PySAL_sub-package'` namespace, depending on the previously analysed object that needs to be visualised (e.g.`splot.giddy`). \n",
    "\n",
    "`.plot` methods are hereby calling `splot` under the hood. Exposing simple plots in other `PySAL` submodules ensures that the user has the quickest possible access to visualisations connected to the `PySAL` object that was created. This is especially useful for an instantaneous sanity check if the spatial analysis done in PySAL is correct, or if there are any errors present in the data used. A conventional workflow could look like this:"
   ]
  },
  {
   "cell_type": "code",
   "execution_count": null,
   "metadata": {},
   "outputs": [],
   "source": [
    "from giddy import "
   ]
  },
  {
   "cell_type": "markdown",
   "metadata": {},
   "source": [
    "Furthermore, all visualisations connected to analysis done in a specific PySAL sub-package can be called using the `splot.'PySAL_sub-package` namespace. This is especially helpful in complex spatial analysis workflows when multiple PySAL objects, submodules and visualizations need to be integrated. Or if the user needs full access and control over the different visualisations. A simple example how to access visualisations through this option is given here:"
   ]
  },
  {
   "cell_type": "raw",
   "metadata": {},
   "source": [
    "import matplotlib.pyplot as plt\n",
    "from libpysal.weights.Contiguity import Queen\n",
    "from libpysal import examples\n",
    "import geopandas as gpd\n",
    "\n",
    "from esda.moran import Moran\n",
    "from splot.esda import moran_scatterplot\n",
    "\n",
    "# Data preparation and spatial analysis\n",
    "link_to_data = examples.get_path('Guerry.shp')\n",
    "gdf = gpd.read_file(link_to_data)\n",
    "y = gdf['Donatns'].values\n",
    "w = Queen.from_dataframe(gdf)\n",
    "w.transform = 'r'\n",
    "moran = Moran(y, w)\n",
    "\n",
    "# Plot\n",
    "fig, _ = moran_scatterplot(moran, p=0.05)\n",
    "plt.show()"
   ]
  },
  {
   "cell_type": "markdown",
   "metadata": {},
   "source": [
    "Lastly, `splot.utils` and `splot.mapping` provide additional utility and mapping functionality that can greatly enhance geospatial analysis and information, but are not directly tied to one specific `PySAL` sub-package. The `.utils` and `.mapping` namespaces therefore universally enhance workflows specific to all other `PySAL` sub-packages and are accessed separately. "
   ]
  },
  {
   "cell_type": "markdown",
   "metadata": {},
   "source": [
    "**References and additional information**\n",
    "* [API Discussion](https://github.com/pysal/splot/issues/9)\n",
    "* [GSoC Blogpost](https://blogs.python-gsoc.org/stefanie-lumnitz/2018/06/11/designing-the-splot-api/)"
   ]
  },
  {
   "cell_type": "markdown",
   "metadata": {},
   "source": [
    "## New splot functionality"
   ]
  },
  {
   "cell_type": "markdown",
   "metadata": {},
   "source": [
    "We followed three main guidelines developing `splot`'s functionality:\n",
    "1. To provide users with simple visualisations and multi-views that allow for a more in depth analysis, where possible. Based on our own experience in spatial analysis we are aiming to shine light on different angles of the analysed problem utilizing simple multi-plots.\n",
    "2. To choose sensible design settings and analysis defaults to enhance the ease and speed of use.\n",
    "3. To allow customization of all visualisations using keyword dictionaries. To allow scientific users to leverage `splot` for scientific presentation.\n",
    "\n",
    "Additionally we aimed to implement all functionality with a consistent API, especially within the `splot.'sub-package'` namespaces and as much as possible inbetween different `splot` submodules. All visualisation functionality takes a `matplotlib` Axes instance as an input argument which defaults to `ax=None`. `ax=` is needed since users may already have a Figure instance with one or more `matplotlib` Axes instances defined (often in a custom layout), and want to use an `splot` function to draw a plot inside one of those already defined Axes. Furthermore, all `splot` functionality commonly returns a `matplotlib` Figure instance and Axes instance. A `fig` instance may be needed for high level operations like display, close or save a figure (e.g. `fig.savefig('moran_scatteprlot.png')`). Respectively, an `ax` instance may be needed to modify the plot itself, e.g. customize a title, or plot a scatter plot on top. \n",
    "\n",
    "The following sections will provide an overview on functionality that was created and advantages and reasons of teh chosen API design. We will herefore highlight a couple of views we regard as most popular in future. The full idea collection and discussion on what functionality to support in `splot` can be found [here](https://github.com/pysal/splot/issues/10)."
   ]
  },
  {
   "cell_type": "markdown",
   "metadata": {},
   "source": [
    "**General References and Pull Requests**"
   ]
  },
  {
   "cell_type": "markdown",
   "metadata": {},
   "source": [
    "* [splot Documentation](http://pysal.org/docs.html)\n",
    "* [merged PR: start documentation using Sphinx](https://github.com/pysal/splot/pull/12)\n",
    "* [merged PR: debug `setup.py`](https://github.com/pysal/splot/pull/16)\n",
    "* [merged PR: debug documentation](https://github.com/pysal/splot/pull/25)\n",
    "* [submitted PR: add README.py](https://github.com/pysal/splot/pull/29)"
   ]
  },
  {
   "cell_type": "markdown",
   "metadata": {},
   "source": [
    "### splot.esda"
   ]
  },
  {
   "cell_type": "markdown",
   "metadata": {},
   "source": [
    "**Enhancing Exploratory Spatial Data Analysis (esda) with `splot` views**"
   ]
  },
  {
   "cell_type": "markdown",
   "metadata": {},
   "source": [
    "[`esda`]() is one of the most widely used sub-packages of PySAL and provides tools for exploratory spatial data analysis that consider the role of space in a distribution of attribute values. Due to it's importance in the Library, it was the first of the `PySAL` sub-packages we designed and developed functionality for.\n",
    "\n",
    "`splot` primarily supports Moran analytics done with `esda.moran` and offers a range of single visualisations and combined views for more complex analysis. Currently we have worked towards `splot` supporting the following objects:\n",
    "* **`esda.moran.Moran`** with `moran_scatterplot()`, `plot_moran_simulation` and `plot_moran`\n",
    "* **`esda.moran.Moran_BV`** with `moran_scatterplot()`, `plot_moran_bv_simulation` and `plot_moran_bv`\n",
    "* **`esda.moran.Moran_Local`** with `moran_scatterplot()`, `lisa_cluster()` and `plot_local_autocorrelation()`\n",
    "* **`esda.moran.Moran_Local_BV`** with `moran_scatterplot()`, `lisa_cluster()` and `plot_local_autocorrelation()`\n",
    "* **`esda.moran.Moran_matrix`** with `moran_facet()`"
   ]
  },
  {
   "cell_type": "markdown",
   "metadata": {},
   "source": [
    "**The same view for multiple objects: moran_scatterplot()**\n",
    "\n",
    "A simple `moran_scatterplot()` call will create a classic Moran Scatterplot for any of the four Moran analytics objects (Moran, Moran_BV, Moran_Local, Moran_Local_BV):"
   ]
  },
  {
   "cell_type": "markdown",
   "metadata": {},
   "source": [
    "# used with the same data introduced in the first chapter\n",
    "moran_scatterplot(moran)\n",
    "plt.show()"
   ]
  },
  {
   "cell_type": "markdown",
   "metadata": {},
   "source": [
    "We hereby integrated four different hidden visualisation functions into one. This helps keep the `splot` API small and again enhances ease of use. In addition, users have the choice to display their original or standardised data, to color points by significance in case `Moran_Local` or `Moran_local_BV` are input objects and of course customize the plot using `scatter_kwds` and `fitline_kwds`.\n",
    "\n"
   ]
  },
  {
   "cell_type": "markdown",
   "metadata": {},
   "source": [
    "**Combining classic views with new analysis: plot_moran_simulation()**"
   ]
  },
  {
   "cell_type": "markdown",
   "metadata": {},
   "source": [
    "`plot_moran_simulation()` and `plot_moran_bv_simulation()` offer users a view to compare the calculated Moran value to a Reference distribution and check wether the calculated Moran or bivariate Moran statistics are significant. The `splot` functionality hereby simulates a normal distribution using an `seaborn.kdeplot` under the hood:"
   ]
  },
  {
   "cell_type": "code",
   "execution_count": null,
   "metadata": {},
   "outputs": [],
   "source": [
    "from splot.esda import plot_moran_simulation\n",
    "\n",
    "# used with the same data introduced in the first chapter\n",
    "plot_moran_simulation(moran)\n",
    "plt.show()"
   ]
  },
  {
   "cell_type": "markdown",
   "metadata": {},
   "source": [
    "**Emphasizing simple multi-views: plot_moran() & plot_local_autocorrelation()**"
   ]
  },
  {
   "cell_type": "markdown",
   "metadata": {},
   "source": [
    "Our personal experience conducting research taught us it is often easier or even necessary to asses and intepret spatial statistical results comparing different views and shiing light from different angles. Therefore we started to create simple multi-views right from the beginning on in GSoC.\n",
    "\n",
    "`plot_moran` for example provides a combined view of `plot_moran_scatterplot()` or `plot_moran_bv_simulation()` and `moran_scatterplot()`. The simple name `plot_moran()` was chosen to direct the user to call this function first since a combined view enhances the understanding of the calculated Moran Statistics significantly. The idea is to only utilize individual views of `plot_moran_scatterplot()` or `moran_scatterplot()` for specific purposes, e.g. to include a simple visualisation in another customized visualisation using the `ax=` argument.\n",
    "\n",
    "Another simple multi-view plot is `plot_local_autocorrelation()`. This `splot` view combines a Moran Scatterplot, LISA cluster map and Choropleth map. This allows the user to not only distinguish between hot and cold spots, indicated through the Moran scatterplot, but also directly locate these areas of interest on a map:"
   ]
  },
  {
   "cell_type": "code",
   "execution_count": null,
   "metadata": {},
   "outputs": [],
   "source": [
    "from esda.moran import Moran_Local\n",
    "from splot.esda import plot_local_autocorrelation\n",
    "\n",
    "moran_loc = Moran_Local(y, w)\n",
    "plot_local_autocorrelation(moran_loc, gdf, 'Donatns')\n",
    "plt.show()"
   ]
  },
  {
   "cell_type": "markdown",
   "metadata": {},
   "source": [
    "This view provides again, the opportunity to splot errors in the database, the underlying statistical calculation and already provides a way to interpret results in a spatial context. If you are interested in Local Spatial Autocorrelation or other spatial analysis workflows and their underlying theories, `splot` provides [comprehensive notebooks]() for teaching or as extended documentation to all visualizations."
   ]
  },
  {
   "cell_type": "markdown",
   "metadata": {},
   "source": [
    "**References and Pull Requests**"
   ]
  },
  {
   "cell_type": "markdown",
   "metadata": {},
   "source": [
    "* [blog_post: Visualising Spatial Autocorrelation](https://blogs.python-gsoc.org/stefanie-lumnitz/2018/05/26/gsoc-milestone-1-visualising-spatial-autocorrelation/)\n",
    "* [blog post: `moran_facet`](https://blogs.python-gsoc.org/stefanie-lumnitz/2018/07/23/from-scipy2018-import-pysal2-0rc2/)\n",
    "* [merged PR: add significance option to `moran_scatterplot`](https://github.com/pysal/splot/pull/7)\n",
    "* [merged PR: Local Autocorrelation](https://github.com/pysal/splot/pull/8)\n",
    "* [merged PR: creating `splot.esda`](https://github.com/pysal/splot/pull/13)\n",
    "* [merged PR: add `moran_scatterplot`, `plot_moran_simulation` and `plot_moran`](https://github.com/pysal/splot/pull/17)\n",
    "* [merged PR: create `Moran_BV` functionality](https://github.com/pysal/splot/pull/18)\n",
    "* [merged PR: create `Moran_Local_BV` functionality](https://github.com/pysal/splot/pull/20)\n",
    "* [submitted PR: add `moran_facet`](https://github.com/pysal/splot/pull/27)"
   ]
  },
  {
   "cell_type": "markdown",
   "metadata": {},
   "source": [
    "### splot.giddy"
   ]
  },
  {
   "cell_type": "markdown",
   "metadata": {},
   "source": [
    "**Visualising space–time analytics that consider the role of space in the evolution of distributions over time**"
   ]
  },
  {
   "cell_type": "markdown",
   "metadata": {},
   "source": [
    "In addition to `esda`, `giddy` offers the opportunity for spatial statistical analysis examining processes over time. Already in `esda` introduced Local indicators of spatial association (LISA) can be analysed in a dynamic context, offering insights into space-time hot-spots (and cold-spots). Being able to build on top of `splot.esda` functionality, designing and creating `splot.giddy` was the natural next choice.\n",
    "\n",
    "`splot` functionality currently supports:\n",
    "* **`giddy.directional.Rose`** with\n",
    "    * `dynamic_lisa_heatmap()`\n",
    "    * `dynamic_lisa_rose()`\n",
    "    * `dynamic_lisa_vectors()`\n",
    "    * `dynamic_lisa_composite()` and\n",
    "    * `dynamic_lisa_composite_explore()`"
   ]
  },
  {
   "cell_type": "markdown",
   "metadata": {},
   "source": [
    "**Interactive matplotlib leveraging `IPyWidgets`: dynamic_lisa_composite_explore()**"
   ]
  },
  {
   "cell_type": "markdown",
   "metadata": {},
   "source": [
    "Developing `splot.giddy`'s functionality, we introduced a new idea to the package to create user-friendly interactive views leveraging `IPyWidgets`. Since `giddy` provides tools to examine spatial phenomenon over time, we decided to implement `dynamic_lisa_composite_explore()`. This function allows `giddy` and `splot` users to dynamically explore changes in the spatial distribution of hot and cold-spots over time. An `IPyWidgets` drop down menu based on `iteract` provides an easy option to change the input variable (e.g. the year of interest) and automatically updates the plot. This functionality is currently dependent on the use of a Jupyter notebook, but gives a blue print on how future interactive packages could be integrated into `splot`, including `_exlpore` in the function name. "
   ]
  },
  {
   "cell_type": "markdown",
   "metadata": {},
   "source": [
    "**References and Pull Requests**"
   ]
  },
  {
   "cell_type": "markdown",
   "metadata": {},
   "source": [
    "* [Blog post inclusinf giddy visualizations](https://blogs.python-gsoc.org/stefanie-lumnitz/2018/06/11/designing-the-splot-api/)\n",
    "* [merged PR: giddy dynamic LISA functionality](https://github.com/pysal/splot/pull/11)\n"
   ]
  },
  {
   "cell_type": "markdown",
   "metadata": {},
   "source": [
    "### splot.libpysal"
   ]
  },
  {
   "cell_type": "markdown",
   "metadata": {},
   "source": [
    "**Visualisations for all core components of Python Spatial Analysis Library in `libpysal`**"
   ]
  },
  {
   "cell_type": "markdown",
   "metadata": {},
   "source": [
    "As demonstrated by previous examples `libpysal` and especially the `weights` functionality is frequently used for many different spatial analysis workflows done with all `PySAL` submodules. Due to new functionality `libpysal.weights.util.nonplanar_neighbors` added by Levi during the refactoring of PySAL, we decided to support `weight` objects next.\n",
    "\n",
    "(`nonplanar_neighbors` offers a tool to calculate spatial weights in case a digitization error lead to neighbouring polygons incorrectly not sharing edges and nodes.)\n",
    "\n",
    "`libpysal` functionality supported by splot includes:\n",
    "* `libpysal.weights` with `plot_spatial_weights()`"
   ]
  },
  {
   "cell_type": "markdown",
   "metadata": {},
   "source": [
    "**Changing views with additional analysis: plot_spatial_weights()**"
   ]
  },
  {
   "cell_type": "markdown",
   "metadata": {},
   "source": [
    "This functionality simply takes a `weights` object and a `geopandas` GeoDataFrame as an input argument and maps the spatial weights network on top of the underlying polygons:"
   ]
  },
  {
   "cell_type": "markdown",
   "metadata": {},
   "source": [
    "from splot.libpysal import plot_spatial_weights\n",
    "\n",
    "# used with the same data introduced in the first chapter\n",
    "plot_spatial_weights(w, gdf)\n",
    "plt.show()"
   ]
  },
  {
   "cell_type": "markdown",
   "metadata": {},
   "source": [
    "In case `nonplanar_neighbors` were calculated beforehand or after, the functionality automatically detects the new attribute of the `weights` object `weights.non_planar_joins` and plots all new joins in a different default color. Of course like in other cases, dictionaries can be used to implement personal design choices as needed."
   ]
  },
  {
   "cell_type": "raw",
   "metadata": {},
   "source": [
    "from splot.libpysal import plot_spatial_weights\n",
    "\n",
    "# used with the same data introduced in the first chapter\n",
    "plot_spatial_weights(wnp, gdf)\n",
    "plt.show()"
   ]
  },
  {
   "cell_type": "markdown",
   "metadata": {},
   "source": [
    "**related links and PR's**\n",
    "* [Blog Post](https://blogs.python-gsoc.org/stefanie-lumnitz/2018/07/09/milestone-2-sprinting-towards-ansplot-release/)\n",
    "* [merged PR: creating `plot_spatial_weights()`](https://github.com/pysal/splot/pull/14)"
   ]
  },
  {
   "cell_type": "markdown",
   "metadata": {},
   "source": [
    "### splot.mapping & splot.utils"
   ]
  },
  {
   "cell_type": "markdown",
   "metadata": {},
   "source": [
    "**Universal Choropleth visualizations and mapping utilities**"
   ]
  },
  {
   "cell_type": "markdown",
   "metadata": {},
   "source": []
  },
  {
   "cell_type": "markdown",
   "metadata": {},
   "source": [
    "**value_by_alpha_cmap()**"
   ]
  },
  {
   "cell_type": "markdown",
   "metadata": {},
   "source": [
    "**vba_choropleth()**"
   ]
  },
  {
   "cell_type": "markdown",
   "metadata": {},
   "source": [
    "**vba_legend()**"
   ]
  },
  {
   "cell_type": "markdown",
   "metadata": {},
   "source": [
    "**mapclassify_bin()**"
   ]
  },
  {
   "cell_type": "markdown",
   "metadata": {},
   "source": [
    "**shift_colormap()**"
   ]
  },
  {
   "cell_type": "markdown",
   "metadata": {},
   "source": [
    "**truncate_colormap()**"
   ]
  },
  {
   "cell_type": "code",
   "execution_count": null,
   "metadata": {},
   "outputs": [],
   "source": []
  },
  {
   "cell_type": "code",
   "execution_count": null,
   "metadata": {},
   "outputs": [],
   "source": []
  },
  {
   "cell_type": "markdown",
   "metadata": {},
   "source": [
    "## Code beyoned splot"
   ]
  },
  {
   "cell_type": "markdown",
   "metadata": {},
   "source": [
    "Developing new visualisation tools for `PySAL` helped to assess important sub-packages current code base. Working on `splot` functionality provided the opportunity to add or tweak functionality alongside splot's visualizations to create an even more user-friendly `PySAL` library. Furthermore, already described `.plot` methods were added to the respective sub-packages. Code that was written beyoned `splot` includes:\n",
    "\n",
    "**merged PR's**\n",
    "\n",
    "* [Add 'Guerry' example data to libpysal](https://github.com/pysal/libpysal/pull/45)\n",
    "* [debug documentation in libpysal](https://github.com/pysal/libpysal/pull/54)\n",
    "* [implement `rose.plot()` methods](https://github.com/pysal/giddy/pull/43)\n",
    "* [test and document `rose.plot()` methods](https://github.com/pysal/giddy/pull/47)\n",
    "* [divide `.z` attribute by standard deviation in esda](https://github.com/pysal/esda/pull/21)\n",
    "* [add a `.varnames` attribute to a Moran_BV object in esda](https://github.com/pysal/esda/pull/23)\n",
    "\n",
    "**open PR's**\n",
    "\n",
    "* [implement `.plot` methods for `esda.moran`](https://github.com/pysal/esda/pull/19)\n",
    "* [replace `libpysal.api` in giddy](https://github.com/pysal/giddy/pull/61)\n",
    "\n",
    "**closed issues**\n",
    "* [offer standardised and non z standardised values in esda](https://github.com/pysal/esda/issues/20)\n",
    "* [add `.varnames` attribute to `Moran_BV_matrix`](https://github.com/pysal/esda/issues/22)\n"
   ]
  },
  {
   "cell_type": "markdown",
   "metadata": {},
   "source": [
    "## Remaining work & next steps"
   ]
  },
  {
   "cell_type": "markdown",
   "metadata": {},
   "source": [
    "Throughout the Summer of Code, the main challenge was coordinating the creation of `splot` and the [refactoring](http://pysal.org/about.html?highlight=migrating) of `PySAL` to `PySAL 2.0`. Due to changes in the API of `libpysal` and `mapclassify` and the overall change of sub-package structure in PySAl, it remains a challenge to continuously adapt `splots` functionality to these new or planned modifications. PR that are currently blocked due to changes in `libpysal` and `mapclassify` API's include:\n",
    "* TODO\n",
    "* TODO\n",
    "* TODO\n",
    "\n",
    "Once these PR's are merged all of `splots` introduced functionality will be accessible and usable. The most important next step will be to release `splot` as a separate package, additionally to the library release `PySAL 2.0rc2`. This package release will likely take place at the end of August 2018. \n",
    "\n",
    "In future we are planning on extending `splot`s functionality so that analysis with all `PySAL` subpackages will be supported by `splot` visualisations. Once users start leveraging `splot`'s views and are able to provide feedback, we are also striving to improve the current functionality if needed. To encourage newly joining developers and a striving `PySAL` and `splot` community we are currently discussing an overall Code of Conduct. To allow for easy contribution every `.py` file in `splot` provides our ideas and plans for improvements of the views and code. Lastly, an attractive `README.md` and good documentation is important to us to provide new users and developers the best possible start within the `splot` and `PySAL` community."
   ]
  },
  {
   "cell_type": "markdown",
   "metadata": {},
   "source": [
    "## Community Outreach"
   ]
  },
  {
   "cell_type": "markdown",
   "metadata": {},
   "source": [
    "During the Summer of Code and within the scope of developing `splot`, the whole development team had the chance to collaborate and communicate with other package developers in the Scientific Python Open Source Software Community. \n",
    "\n",
    "We would like to give many thanks to [Rebecca Bilbro](https://github.com/rebeccabilbro) and [Benjamin Bengfort](https://github.com/bbengfort) to share their experiences and knowledge with us developing the [`yellowbrick`](http://www.scikit-yb.org/en/latest/) package. We made good use of their advice that it is good to just get started with one API and always possible to create another one, for example leveraging other packages as backend later on. Also thank you to [Joris van den Bossche](https://github.com/jorisvandenbossche) and the geopandas development team. Without their decision to time a geopandas 0.4.0 release with an `splot` release, the first `splot` release would not have been possible.\n",
    "\n",
    "Furthermore, [Sergio Rey](https://github.com/sjsrey) [Dani Arribas-Bel](https://github.com/darribas), [Levi John Wolf](https://github.com/ljwolf) and [I](https://github.com/slumnitz) were able to meet for a common `PySAL` and `splot` sprint at [SciPy 2018](https://scipy2018.scipy.org/ehome/index.php?eventid=299527&). This provided the basis for the first release and I was also able to present `splot` in a [lightning talk](https://youtu.be/kriQOJMycIQ?t=2381) to the broader Scientific Python community. Lastly, many thanks to my mentors and the whole [PySAL development team](http://pysal.org/team.html) for loads of fun coding and google hangouts sessions. I had a great time this summer and am looking forward to being part of this welcoming python community way beyoned the Google summer of Code!"
   ]
  }
 ],
 "metadata": {
  "kernelspec": {
   "display_name": "Python 3",
   "language": "python",
   "name": "python3"
  },
  "language_info": {
   "codemirror_mode": {
    "name": "ipython",
    "version": 3
   },
   "file_extension": ".py",
   "mimetype": "text/x-python",
   "name": "python",
   "nbconvert_exporter": "python",
   "pygments_lexer": "ipython3",
   "version": "3.6.5"
  }
 },
 "nbformat": 4,
 "nbformat_minor": 2
}
