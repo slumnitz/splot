{
 "cells": [
  {
   "cell_type": "markdown",
   "metadata": {},
   "source": [
    "# from GSoC import splot"
   ]
  },
  {
   "cell_type": "markdown",
   "metadata": {},
   "source": [
    "**A package providing lightweight plotting and mapping to facilitate spatial analysis with PySAL.**\n",
    "\n",
    "The primary goal of this ['Google Summer of Code 2018' project](https://github.com/pysal/pysal/wiki/GSoC-2018---Geovisualization-Module-by-Stefanie-Lumnitz) was to design and implement the visualization package `splot`. [`splot`](https://github.com/pysal/splot) connects spatial analysis done in [`PySAL`](https://github.com/pysal) to visualization toolkits like [`matplotlib`](https://matplotlib.org). It provides users quick access to visualize popular PySAL objects, offering different views on their spatial analysis workflows. The `splot` package facilitates the creation of both static plots ready for publication and interactive visualizations for quick iteration and spatial data exploration. The project has successfully achieved its primary goal and `splot` was first released in the [PySAL 2.0 2rc](https://github.com/pysal/pysal/releases) on [July 19 2018](https://pypi.org/project/PySAL/2.0rc2/#files)."
   ]
  },
  {
   "cell_type": "markdown",
   "metadata": {},
   "source": [
    "While developing `splot`, the potential integration of different popular visualization packages like [`bokeh`](https://bokeh.pydata.org/en/latest/) was explored. Based on the results API decisions were made, a cooperation with [`geopandas`](http://geopandas.org) was leveraged and the outline of the project changed slightly. The project now allows `splot` to potentially grow with interactive toolkits like `bokeh` in future, but focuses the current workflow on the creation of views with a `matplotlib` and `geopandas` backend. Additionally, developing new tools helped to assess PySAL's current code base and provided the opportunity to add or tweak functionality alongside `splot`'s visualizations to create an even more userfreindly library.\n",
    "\n",
    "This notebook provides a summary of API decisions made, functionality developed and next steps planned towards a thriving `PySAL` and `splot` community in the context of the GSoC project.\n"
   ]
  },
  {
   "cell_type": "markdown",
   "metadata": {},
   "source": [
    "## Contents"
   ]
  },
  {
   "cell_type": "markdown",
   "metadata": {},
   "source": [
    "1. API Decisions\n",
    "2. New `splot` functionality for:\n",
    "    * esda\n",
    "    * giddy\n",
    "    * libpysal\n",
    "    * mapping\n",
    "3. Code beyoned splot\n",
    "4. Remaining Work & Next Steps\n",
    "5. Community Outreach"
   ]
  },
  {
   "cell_type": "markdown",
   "metadata": {},
   "source": [
    "### GitHub and project links"
   ]
  },
  {
   "cell_type": "markdown",
   "metadata": {},
   "source": [
    "* [GSoC GitHub project](https://github.com/pysal/splot/projects/1)\n",
    "* [merged pull requests](https://github.com/pysal/splot/pulls?q=is%3Apr+author%3Aslumnitz+is%3Aclosed)\n",
    "* [unmerged pull requests](https://github.com/pysal/splot/pulls/slumnitz)\n",
    "* [Gitter channel](https://gitter.im/pysal-gsoc18/Lobby)\n",
    "* [Project Blog](https://blogs.python-gsoc.org/stefanie-lumnitz/author/stefanie-lumnitz/)"
   ]
  },
  {
   "cell_type": "markdown",
   "metadata": {},
   "source": [
    "## API Decisions"
   ]
  },
  {
   "cell_type": "markdown",
   "metadata": {},
   "source": [
    "* [API Discussion](https://github.com/pysal/splot/issues/9)"
   ]
  },
  {
   "cell_type": "markdown",
   "metadata": {},
   "source": []
  },
  {
   "cell_type": "code",
   "execution_count": null,
   "metadata": {},
   "outputs": [],
   "source": []
  },
  {
   "cell_type": "markdown",
   "metadata": {},
   "source": [
    "## New splot functionality"
   ]
  },
  {
   "cell_type": "markdown",
   "metadata": {},
   "source": [
    "* [Functionality support](https://github.com/pysal/splot/issues/10)"
   ]
  },
  {
   "cell_type": "markdown",
   "metadata": {},
   "source": [
    "### splot.esda"
   ]
  },
  {
   "cell_type": "markdown",
   "metadata": {},
   "source": [
    "### splot.giddy"
   ]
  },
  {
   "cell_type": "markdown",
   "metadata": {},
   "source": [
    "### splot.libpysal"
   ]
  },
  {
   "cell_type": "markdown",
   "metadata": {},
   "source": [
    "### splot.mapping"
   ]
  },
  {
   "cell_type": "markdown",
   "metadata": {},
   "source": [
    "## Code beyoned splot"
   ]
  },
  {
   "cell_type": "markdown",
   "metadata": {},
   "source": [
    "## Remaining work & next steps"
   ]
  },
  {
   "cell_type": "markdown",
   "metadata": {},
   "source": [
    "## Community Outreach"
   ]
  },
  {
   "cell_type": "code",
   "execution_count": null,
   "metadata": {},
   "outputs": [],
   "source": []
  }
 ],
 "metadata": {
  "kernelspec": {
   "display_name": "Python 3",
   "language": "python",
   "name": "python3"
  },
  "language_info": {
   "codemirror_mode": {
    "name": "ipython",
    "version": 3
   },
   "file_extension": ".py",
   "mimetype": "text/x-python",
   "name": "python",
   "nbconvert_exporter": "python",
   "pygments_lexer": "ipython3",
   "version": "3.6.5"
  }
 },
 "nbformat": 4,
 "nbformat_minor": 2
}
